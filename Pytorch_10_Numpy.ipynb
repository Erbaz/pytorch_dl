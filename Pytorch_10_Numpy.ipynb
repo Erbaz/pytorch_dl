{
  "nbformat": 4,
  "nbformat_minor": 0,
  "metadata": {
    "colab": {
      "provenance": [],
      "authorship_tag": "ABX9TyNk7noN3Ib1JYF/9BXeJqD4",
      "include_colab_link": true
    },
    "kernelspec": {
      "name": "python3",
      "display_name": "Python 3"
    },
    "language_info": {
      "name": "python"
    }
  },
  "cells": [
    {
      "cell_type": "markdown",
      "metadata": {
        "id": "view-in-github",
        "colab_type": "text"
      },
      "source": [
        "<a href=\"https://colab.research.google.com/github/Erbaz/pytorch_dl/blob/main/Pytorch_10_Numpy.ipynb\" target=\"_parent\"><img src=\"https://colab.research.google.com/assets/colab-badge.svg\" alt=\"Open In Colab\"/></a>"
      ]
    },
    {
      "cell_type": "code",
      "source": [
        "import torch, numpy as np"
      ],
      "metadata": {
        "id": "ZGSdiX4tyBJP"
      },
      "execution_count": 1,
      "outputs": []
    },
    {
      "cell_type": "markdown",
      "source": [
        "# NumPy\n",
        "\n",
        "NumpPy is a numerical computing library for Python. Hence Pytorch can utilize it."
      ],
      "metadata": {
        "id": "WlGUBIW5xrde"
      }
    },
    {
      "cell_type": "code",
      "execution_count": 3,
      "metadata": {
        "colab": {
          "base_uri": "https://localhost:8080/"
        },
        "id": "0I3yaWa0wql2",
        "outputId": "db151ede-f9ae-4afd-a988-cba1544a22be"
      },
      "outputs": [
        {
          "output_type": "execute_result",
          "data": {
            "text/plain": [
              "(array([1., 2., 3., 4., 5., 6., 7.]),\n",
              " tensor([1., 2., 3., 4., 5., 6., 7.], dtype=torch.float64))"
            ]
          },
          "metadata": {},
          "execution_count": 3
        }
      ],
      "source": [
        "# NumPy array to tensor\n",
        "array = np.arange(1.0, 8.0)\n",
        "tensor = torch.from_numpy(array) # .from_numpy() will make a new (copy) tensor from the numpy array\n",
        "array, tensor"
      ]
    },
    {
      "cell_type": "code",
      "source": [
        "# default dtypes for numpy arrays and tensors is different\n",
        "# numpy's default is float64\n",
        "# torch's default is float32\n",
        "array.dtype , torch.arange(1.0,8.0).dtype"
      ],
      "metadata": {
        "colab": {
          "base_uri": "https://localhost:8080/"
        },
        "id": "TCw2GHAqzNj6",
        "outputId": "e7c92dd0-5f77-429d-c29e-213f4f7e6ed4"
      },
      "execution_count": 15,
      "outputs": [
        {
          "output_type": "execute_result",
          "data": {
            "text/plain": [
              "(dtype('float64'), torch.float32)"
            ]
          },
          "metadata": {},
          "execution_count": 15
        }
      ]
    },
    {
      "cell_type": "code",
      "source": [
        "tensor.type(torch.float32).dtype # we can change dtype of tensor"
      ],
      "metadata": {
        "colab": {
          "base_uri": "https://localhost:8080/"
        },
        "id": "VBF5W5mKzosd",
        "outputId": "5f669d86-203a-43ce-fc8f-5dd8703c8225"
      },
      "execution_count": 13,
      "outputs": [
        {
          "output_type": "execute_result",
          "data": {
            "text/plain": [
              "torch.float32"
            ]
          },
          "metadata": {},
          "execution_count": 13
        }
      ]
    },
    {
      "cell_type": "code",
      "source": [
        "# Tensor to NumPy array\n",
        "tensor = torch.arange(1.0, 8.0) # default dtype is 32\n",
        "numpy_array = tensor.numpy()\n",
        "tensor, tensor.dtype, numpy_array, numpy_array.dtype"
      ],
      "metadata": {
        "colab": {
          "base_uri": "https://localhost:8080/"
        },
        "id": "dzsIQceezkFA",
        "outputId": "89617fea-3aa0-4e00-9527-1281ad70f1e6"
      },
      "execution_count": 22,
      "outputs": [
        {
          "output_type": "execute_result",
          "data": {
            "text/plain": [
              "(tensor([1., 2., 3., 4., 5., 6., 7.]),\n",
              " torch.float32,\n",
              " array([1., 2., 3., 4., 5., 6., 7.], dtype=float32),\n",
              " dtype('float32'))"
            ]
          },
          "metadata": {},
          "execution_count": 22
        }
      ]
    }
  ]
}