{
  "nbformat": 4,
  "nbformat_minor": 0,
  "metadata": {
    "colab": {
      "provenance": [],
      "authorship_tag": "ABX9TyNr4xHA75FAP4QlW8OPqdvC",
      "include_colab_link": true
    },
    "kernelspec": {
      "name": "python3",
      "display_name": "Python 3"
    },
    "language_info": {
      "name": "python"
    }
  },
  "cells": [
    {
      "cell_type": "markdown",
      "metadata": {
        "id": "view-in-github",
        "colab_type": "text"
      },
      "source": [
        "<a href=\"https://colab.research.google.com/github/Erbaz/pytorch_dl/blob/main/Pytorch_11_Reproducibility.ipynb\" target=\"_parent\"><img src=\"https://colab.research.google.com/assets/colab-badge.svg\" alt=\"Open In Colab\"/></a>"
      ]
    },
    {
      "cell_type": "code",
      "execution_count": 1,
      "metadata": {
        "id": "HWO-30ta3A2V"
      },
      "outputs": [],
      "source": [
        "import torch"
      ]
    },
    {
      "cell_type": "markdown",
      "source": [
        "# Reproducibility\n",
        "\n",
        "How a neural network learns:\n",
        "1. Start with a random number\n",
        "2. tensor operations\n",
        "3. update random numbers and adjust weights\n",
        "4. repeat 3 and make it better\n",
        "5. repeat 4 and make it better\n",
        "6. and on and on...\n",
        "\n",
        "\n",
        "To reduce the randomeness in neural networks, we make use of the concept of a **random seed**. Which essentially adds \"flavour\" to the randomness"
      ],
      "metadata": {
        "id": "x6m4AjIV3DI-"
      }
    },
    {
      "cell_type": "code",
      "source": [
        "# create 2 random tensor\n",
        "\n",
        "tensorA = torch.rand(3,4)\n",
        "tensorB = torch.rand(3,4)\n",
        "print(tensorA)\n",
        "print(tensorB)\n",
        "print(tensorA == tensorB) # tensorA and tensorB are highly unlikely to be the sameµ"
      ],
      "metadata": {
        "colab": {
          "base_uri": "https://localhost:8080/"
        },
        "id": "5iY4j3XZ3xuz",
        "outputId": "07cf7a9c-049b-40f6-b9a9-fb8e2e958929"
      },
      "execution_count": 2,
      "outputs": [
        {
          "output_type": "stream",
          "name": "stdout",
          "text": [
            "tensor([[0.4910, 0.2646, 0.1169, 0.9578],\n",
            "        [0.2983, 0.9181, 0.6366, 0.7486],\n",
            "        [0.4361, 0.6500, 0.2628, 0.7713]])\n",
            "tensor([[0.3459, 0.7134, 0.6853, 0.8482],\n",
            "        [0.5015, 0.9458, 0.5941, 0.9010],\n",
            "        [0.4826, 0.7598, 0.3337, 0.3504]])\n",
            "tensor([[False, False, False, False],\n",
            "        [False, False, False, False],\n",
            "        [False, False, False, False]])\n"
          ]
        }
      ]
    },
    {
      "cell_type": "code",
      "source": [
        "# create random but reproducible tensors\n",
        "RAND_SEED = 36 # can be any number (int or float)\n",
        "torch.manual_seed(RAND_SEED) # manual seed is set\n",
        "tensorA = torch.rand(3,4)\n",
        "torch.manual_seed(RAND_SEED) # manual seed is re-set (necessary)\n",
        "tensorB = torch.rand(3,4)\n",
        "print(f\"Random Seed: {RAND_SEED} of type: {type(RAND_SEED)}\")\n",
        "print(tensorA)\n",
        "print(tensorB)\n",
        "print(tensorA == tensorB) # will be true\n"
      ],
      "metadata": {
        "colab": {
          "base_uri": "https://localhost:8080/"
        },
        "id": "msXeQixJ4UP2",
        "outputId": "3e412f4d-a72a-492a-98d8-cb983f89490e"
      },
      "execution_count": 11,
      "outputs": [
        {
          "output_type": "stream",
          "name": "stdout",
          "text": [
            "Random Seed: 36 of type: <class 'int'>\n",
            "tensor([[0.4978, 0.4356, 0.0132, 0.5109],\n",
            "        [0.7582, 0.1383, 0.6524, 0.9391],\n",
            "        [0.6839, 0.3550, 0.9829, 0.9012]])\n",
            "tensor([[0.4978, 0.4356, 0.0132, 0.5109],\n",
            "        [0.7582, 0.1383, 0.6524, 0.9391],\n",
            "        [0.6839, 0.3550, 0.9829, 0.9012]])\n",
            "tensor([[True, True, True, True],\n",
            "        [True, True, True, True],\n",
            "        [True, True, True, True]])\n"
          ]
        }
      ]
    }
  ]
}