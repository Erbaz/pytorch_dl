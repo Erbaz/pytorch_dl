{
  "nbformat": 4,
  "nbformat_minor": 0,
  "metadata": {
    "colab": {
      "provenance": [],
      "authorship_tag": "ABX9TyO8OcrnTBLeVsQ20CjyH6JE",
      "include_colab_link": true
    },
    "kernelspec": {
      "name": "python3",
      "display_name": "Python 3"
    },
    "language_info": {
      "name": "python"
    }
  },
  "cells": [
    {
      "cell_type": "markdown",
      "metadata": {
        "id": "view-in-github",
        "colab_type": "text"
      },
      "source": [
        "<a href=\"https://colab.research.google.com/github/Erbaz/pytorch_dl/blob/main/Pytorch_2_Tensors.ipynb\" target=\"_parent\"><img src=\"https://colab.research.google.com/assets/colab-badge.svg\" alt=\"Open In Colab\"/></a>"
      ]
    },
    {
      "cell_type": "markdown",
      "source": [
        "#Tensors\n",
        "\n",
        " - datatype of float32 (default)\n",
        " - more suitable for deep learning than a numpy array\n",
        " - a multi-dimensional matrix containing elements of a single data type"
      ],
      "metadata": {
        "id": "wZACubqa8gbY"
      }
    },
    {
      "cell_type": "code",
      "execution_count": 4,
      "metadata": {
        "id": "SZqkR6mZ7Wmc"
      },
      "outputs": [],
      "source": [
        "# how to import\n",
        "import numpy as np\n",
        "import torch"
      ]
    },
    {
      "cell_type": "markdown",
      "source": [
        "# LISTS"
      ],
      "metadata": {
        "id": "e1iXHsf-9GbX"
      }
    },
    {
      "cell_type": "code",
      "source": [
        "my_list = [1,2,3,4]\n",
        "my_list\n",
        "my_multi_dimensional_array = [[1,2,3,4], [5,6,7,8]]\n",
        "my_multi_dimensional_array"
      ],
      "metadata": {
        "colab": {
          "base_uri": "https://localhost:8080/"
        },
        "id": "XcJ-mI8m9M5m",
        "outputId": "8787acbd-113b-4f35-a550-9680fdcf2a4b"
      },
      "execution_count": 2,
      "outputs": [
        {
          "output_type": "execute_result",
          "data": {
            "text/plain": [
              "[[1, 2, 3, 4], [5, 6, 7, 8]]"
            ]
          },
          "metadata": {},
          "execution_count": 2
        }
      ]
    },
    {
      "cell_type": "markdown",
      "source": [
        "#NUMPY ARRAYS"
      ],
      "metadata": {
        "id": "eQ4BB-Jr9_I8"
      }
    },
    {
      "cell_type": "code",
      "source": [
        "np1 = np.random.rand(3,4) # 4 columns, 3 rows, random generation of numbers range default 0 to 1\n",
        "np1"
      ],
      "metadata": {
        "colab": {
          "base_uri": "https://localhost:8080/"
        },
        "id": "06F0Qg9g-JFQ",
        "outputId": "baea7c49-d446-4a92-c8f9-1ecca9777128"
      },
      "execution_count": 6,
      "outputs": [
        {
          "output_type": "execute_result",
          "data": {
            "text/plain": [
              "array([[0.34124333, 0.40109698, 0.77073106, 0.76308221],\n",
              "       [0.0597552 , 0.11549623, 0.17465337, 0.22771227],\n",
              "       [0.7351248 , 0.72341152, 0.79237804, 0.78920756]])"
            ]
          },
          "metadata": {},
          "execution_count": 6
        }
      ]
    },
    {
      "cell_type": "markdown",
      "source": [
        "#TENSORS"
      ],
      "metadata": {
        "id": "1YKsPT9z-33v"
      }
    },
    {
      "cell_type": "code",
      "source": [
        "t_2d = torch.randn(3,4) # 4 columns and 3 rows\n",
        "t_2d\n",
        "\n",
        "t_3d = torch.zeros(2,3,4)\n",
        "t_3d"
      ],
      "metadata": {
        "colab": {
          "base_uri": "https://localhost:8080/"
        },
        "id": "6S987709-6Mi",
        "outputId": "79731b23-1a30-4f81-c722-f8861fdce032"
      },
      "execution_count": 8,
      "outputs": [
        {
          "output_type": "execute_result",
          "data": {
            "text/plain": [
              "tensor([[[0., 0., 0., 0.],\n",
              "         [0., 0., 0., 0.],\n",
              "         [0., 0., 0., 0.]],\n",
              "\n",
              "        [[0., 0., 0., 0.],\n",
              "         [0., 0., 0., 0.],\n",
              "         [0., 0., 0., 0.]]])"
            ]
          },
          "metadata": {},
          "execution_count": 8
        }
      ]
    },
    {
      "cell_type": "markdown",
      "source": [
        "# So What Are Tensors?\n",
        "\n",
        "Tensors are an algebraic object that describes a multi-linear relationship between sets of algebraic objects related to a vector space.\n",
        "\n",
        "A tensor holds the input and output of the neural network."
      ],
      "metadata": {
        "id": "za5RgO2ZEL0d"
      }
    }
  ]
}