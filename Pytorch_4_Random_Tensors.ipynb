{
  "nbformat": 4,
  "nbformat_minor": 0,
  "metadata": {
    "colab": {
      "provenance": [],
      "authorship_tag": "ABX9TyO5Qo7c9DtMQiyJNk3Aa+ql",
      "include_colab_link": true
    },
    "kernelspec": {
      "name": "python3",
      "display_name": "Python 3"
    },
    "language_info": {
      "name": "python"
    }
  },
  "cells": [
    {
      "cell_type": "markdown",
      "metadata": {
        "id": "view-in-github",
        "colab_type": "text"
      },
      "source": [
        "<a href=\"https://colab.research.google.com/github/Erbaz/pytorch_dl/blob/main/Pytorch_4_Random_Tensors.ipynb\" target=\"_parent\"><img src=\"https://colab.research.google.com/assets/colab-badge.svg\" alt=\"Open In Colab\"/></a>"
      ]
    },
    {
      "cell_type": "markdown",
      "source": [
        "## Random Tensors\n",
        "\n",
        "### Why random tensors?\n",
        "Random tensors are important because the way many neural networks learn is by using tensors with random values and adjusting them weights to get desired results.\n"
      ],
      "metadata": {
        "id": "biA2RDyU7jJF"
      }
    },
    {
      "cell_type": "code",
      "execution_count": 2,
      "metadata": {
        "colab": {
          "base_uri": "https://localhost:8080/"
        },
        "id": "O-LeTSls7isJ",
        "outputId": "2064a0f0-0989-484d-ceb1-0a3835d48753"
      },
      "outputs": [
        {
          "output_type": "execute_result",
          "data": {
            "text/plain": [
              "tensor([[0.1524, 0.6534, 0.3131, 0.7667],\n",
              "        [0.9357, 0.2031, 0.3228, 0.0537],\n",
              "        [0.6462, 0.7693, 0.9844, 0.2385]])"
            ]
          },
          "metadata": {},
          "execution_count": 2
        }
      ],
      "source": [
        "import torch\n",
        "\n",
        "random_tensor = torch.rand(3,4) # generates a tensor of 3 ROWS and 4 COLUMNS\n",
        "\n",
        "random_tensor"
      ]
    },
    {
      "cell_type": "code",
      "source": [
        "random_tensor.ndim"
      ],
      "metadata": {
        "id": "y2GrBKWW-ctR"
      },
      "execution_count": null,
      "outputs": []
    },
    {
      "cell_type": "code",
      "source": [
        "next_random_tensor = torch.rand(1,2)\n",
        "next_random_tensor"
      ],
      "metadata": {
        "colab": {
          "base_uri": "https://localhost:8080/"
        },
        "id": "tkwZo8tn-nXO",
        "outputId": "8160f864-30e2-48cb-efa5-235406e84a3a"
      },
      "execution_count": 9,
      "outputs": [
        {
          "output_type": "execute_result",
          "data": {
            "text/plain": [
              "tensor([[0.2893, 0.3613]])"
            ]
          },
          "metadata": {},
          "execution_count": 9
        }
      ]
    },
    {
      "cell_type": "code",
      "source": [
        "new_random_tensor = torch.rand(3)\n",
        "new_random_tensor"
      ],
      "metadata": {
        "colab": {
          "base_uri": "https://localhost:8080/"
        },
        "id": "anIYOfp5_A7c",
        "outputId": "e80c6ea5-0d8c-4273-de84-be406583d579"
      },
      "execution_count": 15,
      "outputs": [
        {
          "output_type": "execute_result",
          "data": {
            "text/plain": [
              "tensor([0.9492, 0.1257, 0.1405])"
            ]
          },
          "metadata": {},
          "execution_count": 15
        }
      ]
    },
    {
      "cell_type": "code",
      "source": [
        "another_random_tensor = torch.rand(2,3,4) # generates a tensor with 3 dimensions\n",
        "another_random_tensor"
      ],
      "metadata": {
        "colab": {
          "base_uri": "https://localhost:8080/"
        },
        "id": "xLfc7h448kBd",
        "outputId": "59ca0614-5595-456d-c9c0-4318f662f64b"
      },
      "execution_count": 7,
      "outputs": [
        {
          "output_type": "execute_result",
          "data": {
            "text/plain": [
              "tensor([[[0.2439, 0.3614, 0.0657, 0.5954],\n",
              "         [0.6546, 0.2361, 0.2564, 0.5721],\n",
              "         [0.6950, 0.5843, 0.1380, 0.6417]],\n",
              "\n",
              "        [[0.3946, 0.5626, 0.0212, 0.5910],\n",
              "         [0.4555, 0.9372, 0.6412, 0.5170],\n",
              "         [0.0939, 0.7048, 0.4952, 0.0576]]])"
            ]
          },
          "metadata": {},
          "execution_count": 7
        }
      ]
    },
    {
      "cell_type": "markdown",
      "source": [
        "Observe how `torch.rand(3,4)` and `torch.rand(1,2)` gave a default dimension of 2.\\\n",
        "While `torch.rand(3)` gave a default dimension of 1. \\\n",
        "To define a tensor with the dimensions you need, you use the parameters in the sequence:\\\n",
        "`torch.rand(no_of_dimensions, rows, columns)`\n",
        "\n"
      ],
      "metadata": {
        "id": "idc3bHT49_Hc"
      }
    },
    {
      "cell_type": "code",
      "source": [
        "# representing an image size with tensors\n",
        "image_tensor = torch.rand(3, 244 , 244) # no_of_color_channels, pixel width, pixel height\n",
        "image_tensor"
      ],
      "metadata": {
        "colab": {
          "base_uri": "https://localhost:8080/"
        },
        "id": "m6Zx_q3K9duZ",
        "outputId": "6203a3a3-2747-401c-8231-6fbdeda762aa"
      },
      "execution_count": 16,
      "outputs": [
        {
          "output_type": "execute_result",
          "data": {
            "text/plain": [
              "tensor([[[0.6985, 0.5996, 0.2535,  ..., 0.6622, 0.2869, 0.2258],\n",
              "         [0.4577, 0.9974, 0.0541,  ..., 0.4404, 0.0813, 0.5355],\n",
              "         [0.1948, 0.8790, 0.8622,  ..., 0.5192, 0.6327, 0.4856],\n",
              "         ...,\n",
              "         [0.8790, 0.9515, 0.2826,  ..., 0.3210, 0.4414, 0.4769],\n",
              "         [0.1170, 0.6997, 0.8248,  ..., 0.5180, 0.9027, 0.2853],\n",
              "         [0.7588, 0.8074, 0.7582,  ..., 0.3121, 0.4305, 0.8759]],\n",
              "\n",
              "        [[0.5717, 0.1212, 0.7628,  ..., 0.9265, 0.2553, 0.6331],\n",
              "         [0.3201, 0.9148, 0.7925,  ..., 0.5488, 0.1794, 0.2742],\n",
              "         [0.7044, 0.0493, 0.6402,  ..., 0.6986, 0.1115, 0.7653],\n",
              "         ...,\n",
              "         [0.1856, 0.8520, 0.0442,  ..., 0.7988, 0.5205, 0.3404],\n",
              "         [0.4819, 0.5173, 0.2534,  ..., 0.5279, 0.5541, 0.0201],\n",
              "         [0.0027, 0.9647, 0.1507,  ..., 0.7825, 0.8430, 0.9788]],\n",
              "\n",
              "        [[0.6731, 0.4310, 0.2297,  ..., 0.6365, 0.2572, 0.9577],\n",
              "         [0.9697, 0.4426, 0.9406,  ..., 0.4128, 0.1196, 0.2196],\n",
              "         [0.7755, 0.7499, 0.1776,  ..., 0.9948, 0.1466, 0.1116],\n",
              "         ...,\n",
              "         [0.2031, 0.2674, 0.5995,  ..., 0.3799, 0.3459, 0.1692],\n",
              "         [0.2373, 0.7795, 0.5912,  ..., 0.4241, 0.8928, 0.5688],\n",
              "         [0.2962, 0.6491, 0.2688,  ..., 0.7006, 0.7024, 0.3880]]])"
            ]
          },
          "metadata": {},
          "execution_count": 16
        }
      ]
    },
    {
      "cell_type": "code",
      "source": [],
      "metadata": {
        "id": "1u6Yu1UVAYD8"
      },
      "execution_count": null,
      "outputs": []
    }
  ]
}