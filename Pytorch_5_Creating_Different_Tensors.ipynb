{
  "nbformat": 4,
  "nbformat_minor": 0,
  "metadata": {
    "colab": {
      "provenance": [],
      "authorship_tag": "ABX9TyOX8S/TroJFoUqI0jahby1n",
      "include_colab_link": true
    },
    "kernelspec": {
      "name": "python3",
      "display_name": "Python 3"
    },
    "language_info": {
      "name": "python"
    }
  },
  "cells": [
    {
      "cell_type": "markdown",
      "metadata": {
        "id": "view-in-github",
        "colab_type": "text"
      },
      "source": [
        "<a href=\"https://colab.research.google.com/github/Erbaz/pytorch_dl/blob/main/Pytorch_5_Creating_Different_Tensors.ipynb\" target=\"_parent\"><img src=\"https://colab.research.google.com/assets/colab-badge.svg\" alt=\"Open In Colab\"/></a>"
      ]
    },
    {
      "cell_type": "markdown",
      "source": [
        "# Zeros and ones\n",
        "Are used to perform things like:\n",
        "1. masking\n",
        "2. discrete data analysis\n",
        "3. padding\n"
      ],
      "metadata": {
        "id": "u9uMv6BHB5sT"
      }
    },
    {
      "cell_type": "code",
      "execution_count": 1,
      "metadata": {
        "colab": {
          "base_uri": "https://localhost:8080/"
        },
        "id": "yrtPcNwlBq0i",
        "outputId": "52130bcc-8aef-4ddb-937a-949b869dd8da"
      },
      "outputs": [
        {
          "output_type": "execute_result",
          "data": {
            "text/plain": [
              "(tensor([[0., 0., 0., 0.],\n",
              "         [0., 0., 0., 0.],\n",
              "         [0., 0., 0., 0.]]),\n",
              " tensor([[1., 1., 1., 1.],\n",
              "         [1., 1., 1., 1.],\n",
              "         [1., 1., 1., 1.],\n",
              "         [1., 1., 1., 1.]]))"
            ]
          },
          "metadata": {},
          "execution_count": 1
        }
      ],
      "source": [
        "import torch\n",
        "\n",
        "# Create a tensor of all zeros\n",
        "zeros = torch.zeros(3,4)\n",
        "\n",
        "# Create a tensor of all ones\n",
        "ones = torch.ones(4,4)\n",
        "\n",
        "zeros, ones"
      ]
    },
    {
      "cell_type": "code",
      "source": [
        "random_tensor = torch.rand(5,5)\n",
        "random_tensor"
      ],
      "metadata": {
        "colab": {
          "base_uri": "https://localhost:8080/"
        },
        "id": "qWGD2TRTCRPZ",
        "outputId": "7bf14ea2-3e7e-44bb-c82e-99036a852364"
      },
      "execution_count": null,
      "outputs": [
        {
          "output_type": "execute_result",
          "data": {
            "text/plain": [
              "tensor([[0.4784, 0.1168, 0.8172, 0.6848, 0.9256],\n",
              "        [0.1276, 0.2479, 0.3679, 0.1617, 0.9306],\n",
              "        [0.5035, 0.7690, 0.3469, 0.4459, 0.7245],\n",
              "        [0.1827, 0.2400, 0.8020, 0.0178, 0.1244],\n",
              "        [0.9928, 0.5278, 0.5924, 0.3812, 0.5837]])"
            ]
          },
          "metadata": {},
          "execution_count": 2
        }
      ]
    },
    {
      "cell_type": "code",
      "source": [
        "# Suppose we wish to mask the matrix\n",
        "\n",
        "mask = torch.zeros(5, 5)\n",
        "masked_tensor = mask * random_tensor\n",
        "\n",
        "masked_tensor"
      ],
      "metadata": {
        "colab": {
          "base_uri": "https://localhost:8080/"
        },
        "id": "XDtNDZT_DNrU",
        "outputId": "b1dadd19-5430-40b9-c0aa-63708110536a"
      },
      "execution_count": null,
      "outputs": [
        {
          "output_type": "execute_result",
          "data": {
            "text/plain": [
              "tensor([[0., 0., 0., 0., 0.],\n",
              "        [0., 0., 0., 0., 0.],\n",
              "        [0., 0., 0., 0., 0.],\n",
              "        [0., 0., 0., 0., 0.],\n",
              "        [0., 0., 0., 0., 0.]])"
            ]
          },
          "metadata": {},
          "execution_count": 7
        }
      ]
    },
    {
      "cell_type": "code",
      "source": [
        "# The default datatype of values is float 32\n",
        "ones.dtype, zeros.dtype"
      ],
      "metadata": {
        "id": "9VuFEHMXDtQz",
        "colab": {
          "base_uri": "https://localhost:8080/"
        },
        "outputId": "fef1b095-231a-47e7-eb0c-80e836112585"
      },
      "execution_count": 2,
      "outputs": [
        {
          "output_type": "execute_result",
          "data": {
            "text/plain": [
              "(torch.float32, torch.float32)"
            ]
          },
          "metadata": {},
          "execution_count": 2
        }
      ]
    },
    {
      "cell_type": "markdown",
      "source": [
        "# Creating Tensors With Range"
      ],
      "metadata": {
        "id": "opDeCUk4k12R"
      }
    },
    {
      "cell_type": "code",
      "source": [
        "one_to_ten = torch.arange(start=1, end=11, step=1) # generate vector with from 1 to 10 with incremental of 1\n",
        "one_to_ten"
      ],
      "metadata": {
        "colab": {
          "base_uri": "https://localhost:8080/"
        },
        "id": "BdI71XLilMSq",
        "outputId": "79acaa38-cd79-4146-9dfd-53de14b00509"
      },
      "execution_count": 3,
      "outputs": [
        {
          "output_type": "execute_result",
          "data": {
            "text/plain": [
              "tensor([ 1,  2,  3,  4,  5,  6,  7,  8,  9, 10])"
            ]
          },
          "metadata": {},
          "execution_count": 3
        }
      ]
    },
    {
      "cell_type": "code",
      "source": [
        "one_to_ten_half_step = torch.arange(start=1, end=11, step=0.5) # generate vector with from 1 to 10 with incremental of 0.5\n",
        "one_to_ten_half_step"
      ],
      "metadata": {
        "colab": {
          "base_uri": "https://localhost:8080/"
        },
        "id": "qnHj1S8Rlbme",
        "outputId": "85071842-3e41-4b2c-90b7-2a112b02e3b6"
      },
      "execution_count": 6,
      "outputs": [
        {
          "output_type": "execute_result",
          "data": {
            "text/plain": [
              "tensor([ 1.0000,  1.5000,  2.0000,  2.5000,  3.0000,  3.5000,  4.0000,  4.5000,\n",
              "         5.0000,  5.5000,  6.0000,  6.5000,  7.0000,  7.5000,  8.0000,  8.5000,\n",
              "         9.0000,  9.5000, 10.0000, 10.5000])"
            ]
          },
          "metadata": {},
          "execution_count": 6
        }
      ]
    },
    {
      "cell_type": "markdown",
      "source": [
        "# Creating Tensors Like"
      ],
      "metadata": {
        "id": "Nt07-y0bmTlu"
      }
    },
    {
      "cell_type": "code",
      "source": [
        "# If you want to copy the size of a tensor (such as creating a mask), you use zeros_like()\n",
        "ten_zeros = torch.zeros_like(input=one_to_ten)\n",
        "ten_zeros\n"
      ],
      "metadata": {
        "colab": {
          "base_uri": "https://localhost:8080/"
        },
        "id": "cOeIe5A_mYV4",
        "outputId": "46ea4830-b477-4786-e647-60f96de0e0c9"
      },
      "execution_count": 7,
      "outputs": [
        {
          "output_type": "execute_result",
          "data": {
            "text/plain": [
              "tensor([0, 0, 0, 0, 0, 0, 0, 0, 0, 0])"
            ]
          },
          "metadata": {},
          "execution_count": 7
        }
      ]
    },
    {
      "cell_type": "code",
      "source": [
        "mask_one_to_ten_half_step = torch.zeros_like(one_to_ten_half_step)\n",
        "mask_one_to_ten_half_step"
      ],
      "metadata": {
        "colab": {
          "base_uri": "https://localhost:8080/"
        },
        "id": "yWNncac8my5b",
        "outputId": "d621783b-7b60-438c-d316-9a1857095168"
      },
      "execution_count": 8,
      "outputs": [
        {
          "output_type": "execute_result",
          "data": {
            "text/plain": [
              "tensor([0., 0., 0., 0., 0., 0., 0., 0., 0., 0., 0., 0., 0., 0., 0., 0., 0., 0., 0., 0.])"
            ]
          },
          "metadata": {},
          "execution_count": 8
        }
      ]
    },
    {
      "cell_type": "code",
      "source": [],
      "metadata": {
        "id": "D8tCWhu0nQxI"
      },
      "execution_count": null,
      "outputs": []
    }
  ]
}