{
  "nbformat": 4,
  "nbformat_minor": 0,
  "metadata": {
    "colab": {
      "provenance": [],
      "authorship_tag": "ABX9TyNGcC9L6ck3yCRoc3VXm4VL",
      "include_colab_link": true
    },
    "kernelspec": {
      "name": "python3",
      "display_name": "Python 3"
    },
    "language_info": {
      "name": "python"
    }
  },
  "cells": [
    {
      "cell_type": "markdown",
      "metadata": {
        "id": "view-in-github",
        "colab_type": "text"
      },
      "source": [
        "<a href=\"https://colab.research.google.com/github/Erbaz/pytorch_dl/blob/main/Pytorch_7_Tensor_Manipulation.ipynb\" target=\"_parent\"><img src=\"https://colab.research.google.com/assets/colab-badge.svg\" alt=\"Open In Colab\"/></a>"
      ]
    },
    {
      "cell_type": "code",
      "execution_count": 1,
      "metadata": {
        "id": "Gefl6pEv8ZFd"
      },
      "outputs": [],
      "source": [
        "import torch"
      ]
    },
    {
      "cell_type": "markdown",
      "source": [
        "# Basic Operations Performed On Tensors"
      ],
      "metadata": {
        "id": "Q6TFxRjT8ijH"
      }
    },
    {
      "cell_type": "markdown",
      "source": [
        "- Addition\n",
        "- Subtraction\n",
        "- Multiplication (element-wise)\n",
        "- Division"
      ],
      "metadata": {
        "id": "Txv3Fxbj82xX"
      }
    },
    {
      "cell_type": "code",
      "source": [
        "# Addition\n",
        "\n",
        "tensor = torch.rand(3,1)\n",
        "print(f\"initial tensor:\\n {tensor}\")\n",
        "print(f\"after addition:\\n {tensor + 10}\")"
      ],
      "metadata": {
        "colab": {
          "base_uri": "https://localhost:8080/"
        },
        "id": "C-PSM--w8qj5",
        "outputId": "5e3d6267-0ad4-4783-f248-fc0799eb4473"
      },
      "execution_count": null,
      "outputs": [
        {
          "output_type": "stream",
          "name": "stdout",
          "text": [
            "initial tensor:\n",
            " tensor([[0.3055],\n",
            "        [0.4075],\n",
            "        [0.5712]])\n",
            "after addition:\n",
            " tensor([[10.3055],\n",
            "        [10.4075],\n",
            "        [10.5712]])\n"
          ]
        }
      ]
    },
    {
      "cell_type": "code",
      "source": [
        "# Multiplication\n",
        "print(f\"after multiplication with 10: \\n{tensor * 10}\")"
      ],
      "metadata": {
        "colab": {
          "base_uri": "https://localhost:8080/"
        },
        "id": "BmyAaQ9y9oBy",
        "outputId": "e5ba8fd4-08f3-4dd5-d1c3-54995c1493c1"
      },
      "execution_count": null,
      "outputs": [
        {
          "output_type": "stream",
          "name": "stdout",
          "text": [
            "after multiplication with 10: \n",
            "tensor([[3.0549],\n",
            "        [4.0745],\n",
            "        [5.7118]])\n"
          ]
        }
      ]
    },
    {
      "cell_type": "code",
      "source": [
        "#  Subtraction\n",
        "print(f\"after subtraction with 10: \\n{tensor - 10}\")"
      ],
      "metadata": {
        "colab": {
          "base_uri": "https://localhost:8080/"
        },
        "id": "s3-bQW15-Amp",
        "outputId": "4b5b7c1a-1c25-4362-ab16-f3c302f1ae3a"
      },
      "execution_count": null,
      "outputs": [
        {
          "output_type": "stream",
          "name": "stdout",
          "text": [
            "after subtraction with 10: \n",
            "tensor([[-9.6945],\n",
            "        [-9.5925],\n",
            "        [-9.4288]])\n"
          ]
        }
      ]
    },
    {
      "cell_type": "code",
      "source": [
        "# Division\n",
        "print(f\"after division with 10:\\n{tensor / 10}\")"
      ],
      "metadata": {
        "colab": {
          "base_uri": "https://localhost:8080/"
        },
        "id": "Y6HHo0pv_Jtj",
        "outputId": "5592d5f4-f25d-4e01-dea0-f6d34c4431e9"
      },
      "execution_count": null,
      "outputs": [
        {
          "output_type": "stream",
          "name": "stdout",
          "text": [
            "after division with 10:\n",
            "tensor([[0.0305],\n",
            "        [0.0407],\n",
            "        [0.0571]])\n"
          ]
        }
      ]
    },
    {
      "cell_type": "code",
      "source": [
        "# Using inbuilt functions\n",
        "print(f\"multiplication: \\n {torch.mul(tensor, 10)}\")\n",
        "print(f\"addition: \\n {torch.add(tensor, 10)}\")\n",
        "print(f\"subtraction: \\n {torch.sub(tensor, 0.2)}\")\n",
        "print(f\"division: \\n {torch.div(tensor, 10)}\")"
      ],
      "metadata": {
        "colab": {
          "base_uri": "https://localhost:8080/"
        },
        "id": "Pzc4uZR2-WCt",
        "outputId": "d3785f69-54bb-48a7-eafa-32a28d2b57b0"
      },
      "execution_count": null,
      "outputs": [
        {
          "output_type": "stream",
          "name": "stdout",
          "text": [
            "multiplication: \n",
            " tensor([[3.0549],\n",
            "        [4.0745],\n",
            "        [5.7118]])\n",
            "addition: \n",
            " tensor([[10.3055],\n",
            "        [10.4075],\n",
            "        [10.5712]])\n",
            "subtraction: \n",
            " tensor([[0.1055],\n",
            "        [0.2075],\n",
            "        [0.3712]])\n",
            "division: \n",
            " tensor([[0.0305],\n",
            "        [0.0407],\n",
            "        [0.0571]])\n"
          ]
        }
      ]
    },
    {
      "cell_type": "markdown",
      "source": [
        "#Matrix Multiplication"
      ],
      "metadata": {
        "id": "hwOuX-EW_nWV"
      }
    },
    {
      "cell_type": "markdown",
      "source": [
        "## Explanation\n",
        "Basically, when we multiply two matrices with one another, we are multiplying each row of one matrix to the column of the other and adding the results of the elements for each row-column combination. This results in what is called a **\"Dot Product\"** for each row-column combination. Once all dot products are found, we get a matrix of those dot products which is the final result of the multiplication of the two matrices.\n",
        "\n",
        "The rule for multiplication is that the row length of one matrix must match the column length of the other. And similarly the column length of one matrix must match the row length of the other matrix.\n",
        "\n",
        "Here is a link for further explanation:\n",
        "https://www.mathsisfun.com/algebra/matrix-multiplying.html"
      ],
      "metadata": {
        "id": "ggHVs7qt_xrF"
      }
    },
    {
      "cell_type": "markdown",
      "source": [],
      "metadata": {
        "id": "RorRhwGErRly"
      }
    },
    {
      "cell_type": "code",
      "source": [
        "# Multiplying two tensors (dimension - 1) together vs Using matmul()\n",
        "\n",
        "tensor = torch.rand(3) # a tensor of one row and 3 columns\n",
        "print(f\"starting tensor: {tensor}\")\n",
        "\n",
        "multiplicationResult = tensor * tensor\n",
        "print(f\"tensor * tensor = {multiplicationResult}\")\n",
        "\n",
        "multiplicationResult2 = torch.matmul(tensor, tensor)\n",
        "\n",
        "print(f\"torch.matmul(tensor , tensor) {multiplicationResult2}\")\n",
        "\n",
        "# The difference between the results is due to the fact that matmul produces a dot product of the multiplication\n",
        "# while the direct multiplication produces element-wise multiplication\n"
      ],
      "metadata": {
        "id": "mr7ACaldAohV",
        "colab": {
          "base_uri": "https://localhost:8080/"
        },
        "outputId": "f95d9717-1662-45fb-8253-d5ecb320694f"
      },
      "execution_count": 5,
      "outputs": [
        {
          "output_type": "stream",
          "name": "stdout",
          "text": [
            "starting tensor: tensor([0.8590, 0.8478, 0.9558])\n",
            "tensor * tensor = tensor([0.7379, 0.7187, 0.9136])\n",
            "torch.matmul(tensor , tensor) 2.370257616043091\n"
          ]
        }
      ]
    },
    {
      "cell_type": "code",
      "source": [
        "# Multiplying higher dimension tensors together\n",
        "# It is important to make sure that - when multiplying - the shapes are congruent\n",
        "# If tensor1 has shape: (m,n) then tensor2 must have shape: (n,m)\n",
        "\n",
        "tensor1 = torch.rand(3,2)\n",
        "tensor2 = torch.rand(2,3)\n",
        "\n",
        "# Element-Wise Multiplication cannot be performed as this will cause error because sizes of the tensors do not match\n",
        "print(f\"size of tensor 1: {tensor1.size()}\")\n",
        "print(f\"size of tensor 2: {tensor2.size()}\")\n",
        "\n",
        "# However, dot product can be produced\n",
        "dotProd = torch.matmul(tensor1, tensor2)\n",
        "\n",
        "print(f\"multiplicatin result: {multiplicationResult}\")\n",
        "print(f\"dot product:\\n {dotProd}\")"
      ],
      "metadata": {
        "colab": {
          "base_uri": "https://localhost:8080/"
        },
        "id": "fKlWqNaOsgLL",
        "outputId": "81fdc059-d9a3-470b-e735-4a48b88fb933"
      },
      "execution_count": 12,
      "outputs": [
        {
          "output_type": "stream",
          "name": "stdout",
          "text": [
            "size of tensor 1: torch.Size([3, 2])\n",
            "size of tensor 2: torch.Size([2, 3])\n",
            "multiplicatin result: tensor([[0.2064, 0.2582],\n",
            "        [0.3792, 0.4744]])\n",
            "dot product:\n",
            " tensor([[0.4005, 0.7296, 0.5575],\n",
            "        [0.3410, 0.5958, 0.4749],\n",
            "        [0.1606, 0.2640, 0.2238]])\n"
          ]
        }
      ]
    },
    {
      "cell_type": "code",
      "source": [],
      "metadata": {
        "id": "cxGL8963vYtC"
      },
      "execution_count": null,
      "outputs": []
    },
    {
      "cell_type": "markdown",
      "source": [
        "### Short-Hand For torch.matmul()"
      ],
      "metadata": {
        "id": "HhnuDq-FuGcX"
      }
    },
    {
      "cell_type": "code",
      "source": [
        "dotProd = tensor1 @ tensor2\n",
        "print(dotProd)\n",
        "\n",
        "#Also\n",
        "dotProd = torch.mm(tensor1, tensor2)\n",
        "dotProd"
      ],
      "metadata": {
        "colab": {
          "base_uri": "https://localhost:8080/"
        },
        "id": "E4jcM-wBuPau",
        "outputId": "e692ff1a-0350-45fc-9c22-bf9031b565cb"
      },
      "execution_count": 14,
      "outputs": [
        {
          "output_type": "stream",
          "name": "stdout",
          "text": [
            "tensor([[0.4005, 0.7296, 0.5575],\n",
            "        [0.3410, 0.5958, 0.4749],\n",
            "        [0.1606, 0.2640, 0.2238]])\n"
          ]
        },
        {
          "output_type": "execute_result",
          "data": {
            "text/plain": [
              "tensor([[0.4005, 0.7296, 0.5575],\n",
              "        [0.3410, 0.5958, 0.4749],\n",
              "        [0.1606, 0.2640, 0.2238]])"
            ]
          },
          "metadata": {},
          "execution_count": 14
        }
      ]
    },
    {
      "cell_type": "markdown",
      "source": [
        "### Transpose"
      ],
      "metadata": {
        "id": "YVrqQMNiyOWS"
      }
    },
    {
      "cell_type": "markdown",
      "source": [
        "A transpose basically switches the axis of the tensor where by its shape of (m,n) changes to (n,m)"
      ],
      "metadata": {
        "id": "v3FgNkleycgS"
      }
    },
    {
      "cell_type": "code",
      "source": [
        "tensor = torch.rand(3,2)\n",
        "\n",
        "# We cannot multiply tensor via matmul() due to the shape\n",
        "# Therefore we apply transpose: tensor.T\n",
        "print(tensor.T.shape)\n",
        "print(tensor @ tensor.T)\n",
        "print((tensor @ tensor.T).shape)\n",
        "print(tensor.T @ tensor)\n",
        "print((tensor.T @ tensor).shape)\n",
        "\n",
        "\n",
        "\n"
      ],
      "metadata": {
        "colab": {
          "base_uri": "https://localhost:8080/"
        },
        "id": "fOr6vJy_yTS9",
        "outputId": "311328be-40a3-4399-c66d-0d7ad4396b4b"
      },
      "execution_count": 18,
      "outputs": [
        {
          "output_type": "stream",
          "name": "stdout",
          "text": [
            "torch.Size([2, 3])\n",
            "tensor([[0.4809, 0.3729, 0.5480],\n",
            "        [0.3729, 0.3308, 0.3952],\n",
            "        [0.5480, 0.3952, 0.6456]])\n",
            "torch.Size([3, 3])\n",
            "tensor([[0.6035, 0.6540],\n",
            "        [0.6540, 0.8538]])\n",
            "torch.Size([2, 2])\n"
          ]
        }
      ]
    }
  ]
}