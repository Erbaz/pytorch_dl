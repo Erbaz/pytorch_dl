{
  "nbformat": 4,
  "nbformat_minor": 0,
  "metadata": {
    "colab": {
      "provenance": [],
      "authorship_tag": "ABX9TyNzjwoKKo9pqF63kZG/i0pZ",
      "include_colab_link": true
    },
    "kernelspec": {
      "name": "python3",
      "display_name": "Python 3"
    },
    "language_info": {
      "name": "python"
    }
  },
  "cells": [
    {
      "cell_type": "markdown",
      "metadata": {
        "id": "view-in-github",
        "colab_type": "text"
      },
      "source": [
        "<a href=\"https://colab.research.google.com/github/Erbaz/pytorch_dl/blob/main/Pytorch_8_Tensor_Aggregations.ipynb\" target=\"_parent\"><img src=\"https://colab.research.google.com/assets/colab-badge.svg\" alt=\"Open In Colab\"/></a>"
      ]
    },
    {
      "cell_type": "markdown",
      "source": [
        "# Min and Max"
      ],
      "metadata": {
        "id": "khrrncA32QQz"
      }
    },
    {
      "cell_type": "code",
      "source": [
        "import torch"
      ],
      "metadata": {
        "id": "fegxsIZE2T7n"
      },
      "execution_count": 1,
      "outputs": []
    },
    {
      "cell_type": "code",
      "source": [
        "x = torch.arange(0,100,10) # generates a 1-d tensor with values from 0 to 100 with step 10\n",
        "x"
      ],
      "metadata": {
        "colab": {
          "base_uri": "https://localhost:8080/"
        },
        "id": "KAT6HQ7y2XXB",
        "outputId": "a1b6f2a7-a740-4327-d313-bcf90fc6c349"
      },
      "execution_count": 3,
      "outputs": [
        {
          "output_type": "execute_result",
          "data": {
            "text/plain": [
              "tensor([ 0, 10, 20, 30, 40, 50, 60, 70, 80, 90])"
            ]
          },
          "metadata": {},
          "execution_count": 3
        }
      ]
    },
    {
      "cell_type": "code",
      "source": [
        "min = torch.min(x)\n",
        "max = torch.max(x)\n",
        "\n",
        "print(f\"min: {min}\\nmax:{max}\")\n",
        "\n",
        "# Shorthand\n",
        "\n",
        "min = x.min()\n",
        "max = x.max()\n",
        "\n",
        "print(f\"min: {min}\\nmax:{max}\")"
      ],
      "metadata": {
        "colab": {
          "base_uri": "https://localhost:8080/"
        },
        "id": "Mp4nKkaI23zz",
        "outputId": "ee769298-4c57-40e1-eec3-dde3292f18f6"
      },
      "execution_count": 5,
      "outputs": [
        {
          "output_type": "stream",
          "name": "stdout",
          "text": [
            "min: 0\n",
            "max:90\n",
            "min: 0\n",
            "max:90\n"
          ]
        }
      ]
    },
    {
      "cell_type": "code",
      "source": [
        "indexMin = x.argmin()\n",
        "indexMax = x.argmax()\n",
        "indexMin, indexMax"
      ],
      "metadata": {
        "colab": {
          "base_uri": "https://localhost:8080/"
        },
        "id": "GGKnAlOI68or",
        "outputId": "93e93045-d70e-4b89-ead4-94b5f3d9c239"
      },
      "execution_count": 18,
      "outputs": [
        {
          "output_type": "execute_result",
          "data": {
            "text/plain": [
              "(tensor(0), tensor(9))"
            ]
          },
          "metadata": {},
          "execution_count": 18
        }
      ]
    },
    {
      "cell_type": "code",
      "source": [
        "# If there are more than one min and max values in tensor, the argmin() and argmax()\n",
        "# will return the first occurring index\n",
        "y = torch.tensor([0,0,0,2,9,2,4,5,7,9,9,0])\n",
        "indexMin = y.argmin()\n",
        "indexMax = y.argmax()\n",
        "indexMin, indexMax"
      ],
      "metadata": {
        "colab": {
          "base_uri": "https://localhost:8080/"
        },
        "id": "LiQ5ybnu7YZB",
        "outputId": "611501bb-caff-483e-e658-997ffef18a6f"
      },
      "execution_count": 22,
      "outputs": [
        {
          "output_type": "execute_result",
          "data": {
            "text/plain": [
              "(tensor(0.0694), tensor(0.9966), tensor(11), tensor(4))"
            ]
          },
          "metadata": {},
          "execution_count": 22
        }
      ]
    },
    {
      "cell_type": "code",
      "source": [
        "# Lets look at higher dimension tensors\n",
        "z = torch.rand(3,4)\n",
        "min = z.min()\n",
        "max = z.max()\n",
        "indexMin = z.argmin()\n",
        "indexMax = z.argmax()\n",
        "\n",
        "min, max, indexMin, indexMax"
      ],
      "metadata": {
        "colab": {
          "base_uri": "https://localhost:8080/"
        },
        "id": "LZI0-J0r9Umm",
        "outputId": "1611903a-ad16-4663-9cce-3414563e1587"
      },
      "execution_count": 23,
      "outputs": [
        {
          "output_type": "execute_result",
          "data": {
            "text/plain": [
              "(tensor(0.0275), tensor(0.9777), tensor(6), tensor(8))"
            ]
          },
          "metadata": {},
          "execution_count": 23
        }
      ]
    },
    {
      "cell_type": "markdown",
      "source": [
        "# Mean and Sum"
      ],
      "metadata": {
        "id": "gk4OQXi34Pb3"
      }
    },
    {
      "cell_type": "code",
      "source": [
        "# Mean\n",
        "x.dtype # ---> gives us the dtype of int64\n",
        "# torch.mean() requires an input of dtype float32 or another complex dtype. int64 is therefore not compatible\n",
        "# to change dtype, we can simply change the type:\n",
        "x_float32 = x.type(torch.float32)\n",
        "print(torch.mean(x_float32))\n",
        "print(x_float32.mean())"
      ],
      "metadata": {
        "colab": {
          "base_uri": "https://localhost:8080/"
        },
        "id": "oSdZi_7q4WuI",
        "outputId": "1272a49d-77ff-4ad4-bbd3-8fd9ffebaa56"
      },
      "execution_count": 15,
      "outputs": [
        {
          "output_type": "stream",
          "name": "stdout",
          "text": [
            "tensor(45.)\n",
            "tensor(45.)\n"
          ]
        }
      ]
    },
    {
      "cell_type": "code",
      "source": [
        "# Sum\n",
        "print(torch.sum(x))\n",
        "print(x.sum())"
      ],
      "metadata": {
        "colab": {
          "base_uri": "https://localhost:8080/"
        },
        "id": "-DbBFMA24ZXw",
        "outputId": "196f28ac-9c26-4a00-ace9-5141aff028aa"
      },
      "execution_count": 16,
      "outputs": [
        {
          "output_type": "stream",
          "name": "stdout",
          "text": [
            "tensor(450)\n",
            "tensor(450)\n"
          ]
        }
      ]
    }
  ]
}