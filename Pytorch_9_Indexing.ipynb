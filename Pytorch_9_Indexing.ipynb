{
  "nbformat": 4,
  "nbformat_minor": 0,
  "metadata": {
    "colab": {
      "provenance": [],
      "authorship_tag": "ABX9TyMI5C3wEMrg/THfPGSJCReL",
      "include_colab_link": true
    },
    "kernelspec": {
      "name": "python3",
      "display_name": "Python 3"
    },
    "language_info": {
      "name": "python"
    }
  },
  "cells": [
    {
      "cell_type": "markdown",
      "metadata": {
        "id": "view-in-github",
        "colab_type": "text"
      },
      "source": [
        "<a href=\"https://colab.research.google.com/github/Erbaz/pytorch_dl/blob/main/Pytorch_9_Indexing.ipynb\" target=\"_parent\"><img src=\"https://colab.research.google.com/assets/colab-badge.svg\" alt=\"Open In Colab\"/></a>"
      ]
    },
    {
      "cell_type": "code",
      "source": [
        "import torch"
      ],
      "metadata": {
        "id": "h0mZcy82hfjx"
      },
      "execution_count": 1,
      "outputs": []
    },
    {
      "cell_type": "markdown",
      "source": [
        "#Indexing"
      ],
      "metadata": {
        "id": "uzIznGfzhded"
      }
    },
    {
      "cell_type": "markdown",
      "source": [
        "### Chained Indexing"
      ],
      "metadata": {
        "id": "gcmVLpZhluq_"
      }
    },
    {
      "cell_type": "code",
      "source": [
        "tensor = torch.rand(3,4)\n",
        "tensor"
      ],
      "metadata": {
        "colab": {
          "base_uri": "https://localhost:8080/"
        },
        "id": "jtFqfaithp--",
        "outputId": "f5024634-e731-4ef6-985e-c02351301a46"
      },
      "execution_count": 55,
      "outputs": [
        {
          "output_type": "execute_result",
          "data": {
            "text/plain": [
              "tensor([[0.2903, 0.5689, 0.7963, 0.2225],\n",
              "        [0.3475, 0.0375, 0.5530, 0.1101],\n",
              "        [0.6782, 0.9759, 0.5597, 0.5865]])"
            ]
          },
          "metadata": {},
          "execution_count": 55
        }
      ]
    },
    {
      "cell_type": "code",
      "source": [
        "tensor[0]"
      ],
      "metadata": {
        "colab": {
          "base_uri": "https://localhost:8080/"
        },
        "id": "JF3GIgxgh7ON",
        "outputId": "7563bf20-828b-4d7f-a230-3a2c75222da1"
      },
      "execution_count": 56,
      "outputs": [
        {
          "output_type": "execute_result",
          "data": {
            "text/plain": [
              "tensor([0.2903, 0.5689, 0.7963, 0.2225])"
            ]
          },
          "metadata": {},
          "execution_count": 56
        }
      ]
    },
    {
      "cell_type": "code",
      "source": [
        "tensor[1][0]"
      ],
      "metadata": {
        "colab": {
          "base_uri": "https://localhost:8080/"
        },
        "id": "mjCRWLQGiHlP",
        "outputId": "51fbaa0e-b650-4512-d8ea-a885dc5dfe80"
      },
      "execution_count": 53,
      "outputs": [
        {
          "output_type": "execute_result",
          "data": {
            "text/plain": [
              "tensor([0.6615, 0.1986, 0.8034, 0.1091])"
            ]
          },
          "metadata": {},
          "execution_count": 53
        }
      ]
    },
    {
      "cell_type": "code",
      "source": [
        "tensor[1]"
      ],
      "metadata": {
        "colab": {
          "base_uri": "https://localhost:8080/"
        },
        "id": "t9KLZeXhh9_i",
        "outputId": "166bd58a-dd02-40d4-dd0b-5eedd39efc39"
      },
      "execution_count": 57,
      "outputs": [
        {
          "output_type": "execute_result",
          "data": {
            "text/plain": [
              "tensor([0.3475, 0.0375, 0.5530, 0.1101])"
            ]
          },
          "metadata": {},
          "execution_count": 57
        }
      ]
    },
    {
      "cell_type": "code",
      "source": [
        "tensor[0][0] # selects the first row as a 1D tensor, and then selects the 0th index of that 1D tensor"
      ],
      "metadata": {
        "colab": {
          "base_uri": "https://localhost:8080/"
        },
        "id": "3t-oHZQ9iAni",
        "outputId": "9223c648-012f-41fa-a66b-b6c6077bd07b"
      },
      "execution_count": 54,
      "outputs": [
        {
          "output_type": "execute_result",
          "data": {
            "text/plain": [
              "tensor([0.8097, 0.9329, 0.1407, 0.4361])"
            ]
          },
          "metadata": {},
          "execution_count": 54
        }
      ]
    },
    {
      "cell_type": "code",
      "source": [
        "tensor[0][1]"
      ],
      "metadata": {
        "colab": {
          "base_uri": "https://localhost:8080/"
        },
        "id": "A8POWaqQiEJq",
        "outputId": "2480d266-7a21-4c3c-8ba5-8e9b82cabde5"
      },
      "execution_count": 36,
      "outputs": [
        {
          "output_type": "execute_result",
          "data": {
            "text/plain": [
              "tensor(0.7180)"
            ]
          },
          "metadata": {},
          "execution_count": 36
        }
      ]
    },
    {
      "cell_type": "code",
      "source": [
        "tensor[0][1:3] # selects the first row, and then selects the second to the third rows of the resulting tensor"
      ],
      "metadata": {
        "colab": {
          "base_uri": "https://localhost:8080/"
        },
        "id": "BxwIziT5iPI2",
        "outputId": "41302b82-4318-4501-906a-484e5abf89f2"
      },
      "execution_count": 39,
      "outputs": [
        {
          "output_type": "execute_result",
          "data": {
            "text/plain": [
              "tensor([0.7180, 0.4357])"
            ]
          },
          "metadata": {},
          "execution_count": 39
        }
      ]
    },
    {
      "cell_type": "code",
      "source": [
        "tensor[0:2][0:2] # selects the first two rows, and then selects the first two rows of the resulting tensor"
      ],
      "metadata": {
        "colab": {
          "base_uri": "https://localhost:8080/"
        },
        "id": "ebRTtmD3mJ9z",
        "outputId": "8a0dad09-7aa4-46d5-c93f-1cb04d6968e9"
      },
      "execution_count": 44,
      "outputs": [
        {
          "output_type": "execute_result",
          "data": {
            "text/plain": [
              "tensor([[0.1408, 0.7180, 0.4357, 0.3874],\n",
              "        [0.9111, 0.5615, 0.5857, 0.7622]])"
            ]
          },
          "metadata": {},
          "execution_count": 44
        }
      ]
    },
    {
      "cell_type": "code",
      "source": [
        "tensor[0:2][1] # selects the first two rows, and then selects the second row of the resulting tensor"
      ],
      "metadata": {
        "colab": {
          "base_uri": "https://localhost:8080/"
        },
        "id": "y2GL7qb7ovqD",
        "outputId": "9247fc7b-fe16-4b62-caa6-a41b7b145bf4"
      },
      "execution_count": 48,
      "outputs": [
        {
          "output_type": "execute_result",
          "data": {
            "text/plain": [
              "tensor([0.9111, 0.5615, 0.5857, 0.7622])"
            ]
          },
          "metadata": {},
          "execution_count": 48
        }
      ]
    },
    {
      "cell_type": "markdown",
      "source": [
        "### Multidimensional Indexing"
      ],
      "metadata": {
        "id": "xbH0kNDjl80l"
      }
    },
    {
      "cell_type": "code",
      "source": [
        "tensor[0,0] # selects the values in row 0 and column 0 (first value)"
      ],
      "metadata": {
        "colab": {
          "base_uri": "https://localhost:8080/"
        },
        "id": "sGBuzfnziUBu",
        "outputId": "41f7d310-85f2-41eb-bc52-8beb45cf8b9f"
      },
      "execution_count": 38,
      "outputs": [
        {
          "output_type": "execute_result",
          "data": {
            "text/plain": [
              "tensor(0.1408)"
            ]
          },
          "metadata": {},
          "execution_count": 38
        }
      ]
    },
    {
      "cell_type": "code",
      "source": [
        "tensor[0:2,0:2] # selects the values in row 0 to 1 and the columns 0 to 1"
      ],
      "metadata": {
        "colab": {
          "base_uri": "https://localhost:8080/"
        },
        "id": "pixO2U33iYu0",
        "outputId": "6be0a6fa-540a-4ec8-f86e-0c815a47937b"
      },
      "execution_count": 30,
      "outputs": [
        {
          "output_type": "execute_result",
          "data": {
            "text/plain": [
              "tensor([[0.1000, 0.2000],\n",
              "        [0.6000, 0.7000]])"
            ]
          },
          "metadata": {},
          "execution_count": 30
        }
      ]
    },
    {
      "cell_type": "code",
      "source": [
        "tensor[0:2, 1] # selects the first two rows and the first column of the resulting tensor"
      ],
      "metadata": {
        "colab": {
          "base_uri": "https://localhost:8080/"
        },
        "id": "8Gl_tjuRimoz",
        "outputId": "da1dc246-3e2f-4941-fe66-c205099c9ffe"
      },
      "execution_count": 49,
      "outputs": [
        {
          "output_type": "execute_result",
          "data": {
            "text/plain": [
              "tensor([0.7180, 0.5615])"
            ]
          },
          "metadata": {},
          "execution_count": 49
        }
      ]
    },
    {
      "cell_type": "code",
      "source": [],
      "metadata": {
        "id": "o1KXs_tCpaBR"
      },
      "execution_count": null,
      "outputs": []
    },
    {
      "cell_type": "markdown",
      "source": [
        "### Further Practice"
      ],
      "metadata": {
        "id": "TXUQmt7mtzvl"
      }
    },
    {
      "cell_type": "code",
      "source": [
        "tensor = torch.rand(2,3,4)\n",
        "tensor, tensor.shape"
      ],
      "metadata": {
        "colab": {
          "base_uri": "https://localhost:8080/"
        },
        "id": "PiHQsVZtt2y-",
        "outputId": "2e0dd1e1-f005-4e86-9ecb-38574a5e7efc"
      },
      "execution_count": 60,
      "outputs": [
        {
          "output_type": "execute_result",
          "data": {
            "text/plain": [
              "(tensor([[[0.0869, 0.6880, 0.6181, 0.9139],\n",
              "          [0.7680, 0.0219, 0.9779, 0.4213],\n",
              "          [0.8455, 0.5312, 0.5220, 0.8432]],\n",
              " \n",
              "         [[0.2216, 0.5779, 0.5405, 0.6806],\n",
              "          [0.4388, 0.0831, 0.5042, 0.0878],\n",
              "          [0.9309, 0.1183, 0.5381, 0.8152]]]),\n",
              " torch.Size([2, 3, 4]))"
            ]
          },
          "metadata": {},
          "execution_count": 60
        }
      ]
    },
    {
      "cell_type": "code",
      "source": [
        "# first row of the 1st dimension\n",
        "tensor[0]"
      ],
      "metadata": {
        "colab": {
          "base_uri": "https://localhost:8080/"
        },
        "id": "ryPmZ4O0t5pC",
        "outputId": "d880f29f-5309-4be9-9abe-87704104a841"
      },
      "execution_count": 61,
      "outputs": [
        {
          "output_type": "execute_result",
          "data": {
            "text/plain": [
              "tensor([[0.0869, 0.6880, 0.6181, 0.9139],\n",
              "        [0.7680, 0.0219, 0.9779, 0.4213],\n",
              "        [0.8455, 0.5312, 0.5220, 0.8432]])"
            ]
          },
          "metadata": {},
          "execution_count": 61
        }
      ]
    },
    {
      "cell_type": "code",
      "source": [
        "# second row of the 1st dimension\n",
        "tensor [1]"
      ],
      "metadata": {
        "colab": {
          "base_uri": "https://localhost:8080/"
        },
        "id": "MektQ4BTuGeS",
        "outputId": "0600125d-f3c0-45b7-d7b3-2ee826b68671"
      },
      "execution_count": 62,
      "outputs": [
        {
          "output_type": "execute_result",
          "data": {
            "text/plain": [
              "tensor([[0.2216, 0.5779, 0.5405, 0.6806],\n",
              "        [0.4388, 0.0831, 0.5042, 0.0878],\n",
              "        [0.9309, 0.1183, 0.5381, 0.8152]])"
            ]
          },
          "metadata": {},
          "execution_count": 62
        }
      ]
    },
    {
      "cell_type": "code",
      "source": [
        "# first row of the first row of the 1st dimension\n",
        "tensor[0][0]"
      ],
      "metadata": {
        "colab": {
          "base_uri": "https://localhost:8080/"
        },
        "id": "So-qjgnOuHex",
        "outputId": "3f621507-4bfd-498d-942b-bce5af0fa236"
      },
      "execution_count": 68,
      "outputs": [
        {
          "output_type": "execute_result",
          "data": {
            "text/plain": [
              "tensor([0.0869, 0.6880, 0.6181, 0.9139])"
            ]
          },
          "metadata": {},
          "execution_count": 68
        }
      ]
    },
    {
      "cell_type": "code",
      "source": [
        "# first row and first column of the 1st dimension\n",
        "tensor[0,0]"
      ],
      "metadata": {
        "colab": {
          "base_uri": "https://localhost:8080/"
        },
        "id": "AEnQA8H-vC5A",
        "outputId": "a23e2a04-4b1e-41da-f1c1-c9f49b44c709"
      },
      "execution_count": 70,
      "outputs": [
        {
          "output_type": "execute_result",
          "data": {
            "text/plain": [
              "tensor([0.0869, 0.6880, 0.6181, 0.9139])"
            ]
          },
          "metadata": {},
          "execution_count": 70
        }
      ]
    },
    {
      "cell_type": "code",
      "source": [
        "tensor[1][1]"
      ],
      "metadata": {
        "colab": {
          "base_uri": "https://localhost:8080/"
        },
        "id": "nfXEYfYMuMde",
        "outputId": "142677da-4465-4461-af0c-07b422681030"
      },
      "execution_count": 73,
      "outputs": [
        {
          "output_type": "execute_result",
          "data": {
            "text/plain": [
              "tensor([0.4388, 0.0831, 0.5042, 0.0878])"
            ]
          },
          "metadata": {},
          "execution_count": 73
        }
      ]
    },
    {
      "cell_type": "code",
      "source": [
        "tensor[1,1]"
      ],
      "metadata": {
        "colab": {
          "base_uri": "https://localhost:8080/"
        },
        "id": "Ck5JcvtouOxU",
        "outputId": "4dab323f-ef08-48b1-8c58-f16e81f4bd3d"
      },
      "execution_count": 72,
      "outputs": [
        {
          "output_type": "execute_result",
          "data": {
            "text/plain": [
              "tensor([0.4388, 0.0831, 0.5042, 0.0878])"
            ]
          },
          "metadata": {},
          "execution_count": 72
        }
      ]
    },
    {
      "cell_type": "code",
      "source": [
        "tensor[1][1][1]"
      ],
      "metadata": {
        "colab": {
          "base_uri": "https://localhost:8080/"
        },
        "id": "HhUg_ksBuTJc",
        "outputId": "c4a8daed-94f4-4ac4-b795-b4fba1b8805b"
      },
      "execution_count": 75,
      "outputs": [
        {
          "output_type": "execute_result",
          "data": {
            "text/plain": [
              "tensor(0.0831)"
            ]
          },
          "metadata": {},
          "execution_count": 75
        }
      ]
    },
    {
      "cell_type": "code",
      "source": [
        "tensor[1,1,1]"
      ],
      "metadata": {
        "colab": {
          "base_uri": "https://localhost:8080/"
        },
        "id": "T1KFaplmu-Hp",
        "outputId": "8cd2dfeb-9c69-4d3b-f3f8-790342881fd5"
      },
      "execution_count": 74,
      "outputs": [
        {
          "output_type": "execute_result",
          "data": {
            "text/plain": [
              "tensor(0.0831)"
            ]
          },
          "metadata": {},
          "execution_count": 74
        }
      ]
    },
    {
      "cell_type": "code",
      "source": [
        "tensor[:,1]"
      ],
      "metadata": {
        "colab": {
          "base_uri": "https://localhost:8080/"
        },
        "id": "72cNyRcVvhjQ",
        "outputId": "1c85f7f0-1567-4114-b681-dbdb8d43280f"
      },
      "execution_count": 77,
      "outputs": [
        {
          "output_type": "execute_result",
          "data": {
            "text/plain": [
              "tensor([[0.7680, 0.0219, 0.9779, 0.4213],\n",
              "        [0.4388, 0.0831, 0.5042, 0.0878]])"
            ]
          },
          "metadata": {},
          "execution_count": 77
        }
      ]
    }
  ]
}